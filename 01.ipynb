{
 "cells": [
  {
   "cell_type": "code",
   "execution_count": 1,
   "id": "312001ab-dacc-4bd5-8392-d6516edc0faa",
   "metadata": {},
   "outputs": [],
   "source": [
    "import tensorflow as tf"
   ]
  },
  {
   "cell_type": "markdown",
   "id": "84f982ad-9d73-49a0-a61d-0349dd72e6fe",
   "metadata": {},
   "source": [
    "### Initailization of Tensors"
   ]
  },
  {
   "cell_type": "code",
   "execution_count": 2,
   "id": "7cfd283c-126a-4f35-bafd-43ce6ce4c8a4",
   "metadata": {},
   "outputs": [
    {
     "name": "stdout",
     "output_type": "stream",
     "text": [
      "tf.Tensor([[4.]], shape=(1, 1), dtype=float32)\n"
     ]
    }
   ],
   "source": [
    "x = tf.constant(4, shape=(1,1), dtype=tf.float32)\n",
    "print(x)"
   ]
  },
  {
   "cell_type": "code",
   "execution_count": 3,
   "id": "3038a85d-47c4-43c9-b92e-139f1dfa36c4",
   "metadata": {},
   "outputs": [
    {
     "name": "stdout",
     "output_type": "stream",
     "text": [
      "tf.Tensor(\n",
      "[[1 2 3]\n",
      " [4 5 6]], shape=(2, 3), dtype=int32)\n"
     ]
    }
   ],
   "source": [
    "y = tf.constant([[1,2,3],[4,5,6]])\n",
    "print(y)"
   ]
  },
  {
   "cell_type": "code",
   "execution_count": 4,
   "id": "17e6ae93-5f0a-4d53-a217-69f319bd7e1c",
   "metadata": {},
   "outputs": [
    {
     "name": "stdout",
     "output_type": "stream",
     "text": [
      "tf.Tensor(\n",
      "[[1. 1. 1.]\n",
      " [1. 1. 1.]\n",
      " [1. 1. 1.]], shape=(3, 3), dtype=float32)\n"
     ]
    }
   ],
   "source": [
    "ones = tf.ones((3,3))\n",
    "print(ones)"
   ]
  },
  {
   "cell_type": "code",
   "execution_count": 5,
   "id": "3b86bd6b-f792-49d3-9051-089f78033015",
   "metadata": {},
   "outputs": [
    {
     "name": "stdout",
     "output_type": "stream",
     "text": [
      "tf.Tensor(\n",
      "[[0. 0. 0.]\n",
      " [0. 0. 0.]], shape=(2, 3), dtype=float32)\n"
     ]
    }
   ],
   "source": [
    "zeros = tf.zeros((2,3))\n",
    "print(zeros)"
   ]
  },
  {
   "cell_type": "code",
   "execution_count": 6,
   "id": "b845982b-e839-48d2-9241-586d6405f659",
   "metadata": {},
   "outputs": [
    {
     "name": "stdout",
     "output_type": "stream",
     "text": [
      "tf.Tensor(\n",
      "[[1. 0. 0.]\n",
      " [0. 1. 0.]\n",
      " [0. 0. 1.]], shape=(3, 3), dtype=float32)\n"
     ]
    }
   ],
   "source": [
    "eye = tf.eye(3)\n",
    "print(eye)"
   ]
  },
  {
   "cell_type": "code",
   "execution_count": 7,
   "id": "d49d0483-8ccc-42ca-b3b7-53d18a8829fb",
   "metadata": {},
   "outputs": [
    {
     "name": "stdout",
     "output_type": "stream",
     "text": [
      "tf.Tensor(\n",
      "[[ 1.402573    1.2839295   0.3071139 ]\n",
      " [-0.20097618  1.6386019  -0.8914685 ]\n",
      " [ 0.6259464  -0.04145314  0.64458066]], shape=(3, 3), dtype=float32)\n"
     ]
    }
   ],
   "source": [
    "rand_normal = tf.random.normal((3,3), mean=0, stddev=1)\n",
    "print(rand_normal)"
   ]
  },
  {
   "cell_type": "code",
   "execution_count": 8,
   "id": "53278caf-27d9-4fe4-aab9-8eba4e075222",
   "metadata": {},
   "outputs": [
    {
     "name": "stdout",
     "output_type": "stream",
     "text": [
      "tf.Tensor([[0.40725887 0.18703914 0.4342302 ]], shape=(1, 3), dtype=float32)\n"
     ]
    }
   ],
   "source": [
    "rand_uniform = tf.random.uniform((1,3), minval=0, maxval=1)\n",
    "print(rand_uniform)"
   ]
  },
  {
   "cell_type": "code",
   "execution_count": 9,
   "id": "a0ac1a12-1e81-4c73-a214-f972235bbee1",
   "metadata": {},
   "outputs": [
    {
     "name": "stdout",
     "output_type": "stream",
     "text": [
      "tf.Tensor([1 3 5 7 9], shape=(5,), dtype=int32)\n"
     ]
    }
   ],
   "source": [
    "range_tf = tf.range(start = 1, limit = 10, delta = 2)\n",
    "print(range_tf)"
   ]
  },
  {
   "cell_type": "code",
   "execution_count": 10,
   "id": "0cce421d-61f3-43d0-a779-fd567981dbcd",
   "metadata": {},
   "outputs": [
    {
     "name": "stdout",
     "output_type": "stream",
     "text": [
      "tf.Tensor([1. 3. 5. 7. 9.], shape=(5,), dtype=float64)\n"
     ]
    }
   ],
   "source": [
    "new_range = tf.cast(range_tf, dtype=tf.float64)\n",
    "#tf.float (16, 32, 64), tf.int (8, 16, 32, 64), tf.bool\n",
    "print(new_range)"
   ]
  },
  {
   "cell_type": "markdown",
   "id": "8cb013e7-eecd-4d0a-962b-c6a5a1b8c7ae",
   "metadata": {},
   "source": [
    "### Mathematical Operations"
   ]
  },
  {
   "cell_type": "code",
   "execution_count": 11,
   "id": "54db804e-618a-4f60-b9d0-a109d3d14b42",
   "metadata": {},
   "outputs": [],
   "source": [
    "x = tf.constant([1,2,3])\n",
    "y = tf.constant([9,8,7])"
   ]
  },
  {
   "cell_type": "code",
   "execution_count": 12,
   "id": "12593234-2117-41fa-925e-aabe869456cf",
   "metadata": {},
   "outputs": [
    {
     "name": "stdout",
     "output_type": "stream",
     "text": [
      "tf.Tensor([10 10 10], shape=(3,), dtype=int32)\n",
      "tf.Tensor([10 10 10], shape=(3,), dtype=int32)\n"
     ]
    }
   ],
   "source": [
    "z = tf.add(x, y)\n",
    "print(z)\n",
    "\n",
    "z = x + y\n",
    "print(z)"
   ]
  },
  {
   "cell_type": "code",
   "execution_count": 13,
   "id": "2d633f2c-753a-4c81-b7f5-ee535aede311",
   "metadata": {},
   "outputs": [
    {
     "name": "stdout",
     "output_type": "stream",
     "text": [
      "tf.Tensor([-8 -6 -4], shape=(3,), dtype=int32)\n",
      "tf.Tensor([-8 -6 -4], shape=(3,), dtype=int32)\n"
     ]
    }
   ],
   "source": [
    "z = tf.subtract(x, y)\n",
    "print(z)\n",
    "z = x - y\n",
    "print(z)"
   ]
  },
  {
   "cell_type": "code",
   "execution_count": 14,
   "id": "8be6c3ec-fe9a-482e-97b7-62577f2efb5a",
   "metadata": {},
   "outputs": [
    {
     "name": "stdout",
     "output_type": "stream",
     "text": [
      "tf.Tensor([0.11111111 0.25       0.42857143], shape=(3,), dtype=float64)\n",
      "tf.Tensor([0.11111111 0.25       0.42857143], shape=(3,), dtype=float64)\n"
     ]
    }
   ],
   "source": [
    "z = tf.divide(x, y)\n",
    "print(z)\n",
    "z = x / y\n",
    "print(z)"
   ]
  },
  {
   "cell_type": "code",
   "execution_count": 15,
   "id": "3390c478-5891-4c27-8f06-8f78d8813d40",
   "metadata": {},
   "outputs": [
    {
     "name": "stdout",
     "output_type": "stream",
     "text": [
      "tf.Tensor([ 9 16 21], shape=(3,), dtype=int32)\n",
      "tf.Tensor([ 9 16 21], shape=(3,), dtype=int32)\n"
     ]
    }
   ],
   "source": [
    "z = tf.multiply(x, y)\n",
    "print(z)\n",
    "z = x * y\n",
    "print(z)"
   ]
  },
  {
   "cell_type": "code",
   "execution_count": 16,
   "id": "aed3f453-dafe-409d-92f5-b9e43b154d0f",
   "metadata": {},
   "outputs": [
    {
     "name": "stdout",
     "output_type": "stream",
     "text": [
      "tf.Tensor(46, shape=(), dtype=int32)\n",
      "tf.Tensor(46, shape=(), dtype=int32)\n"
     ]
    }
   ],
   "source": [
    "z = tf.tensordot(x, y, axes = 1)\n",
    "print(z)\n",
    "z = tf.reduce_sum(x * y, axis = 0)\n",
    "print(z)"
   ]
  },
  {
   "cell_type": "code",
   "execution_count": 17,
   "id": "5a734b85-9e09-40bd-a109-fde1848209ae",
   "metadata": {},
   "outputs": [
    {
     "name": "stdout",
     "output_type": "stream",
     "text": [
      "tf.Tensor([  1  32 243], shape=(3,), dtype=int32)\n"
     ]
    }
   ],
   "source": [
    "z = x ** 5\n",
    "print(z)"
   ]
  },
  {
   "cell_type": "code",
   "execution_count": 18,
   "id": "423b25a1-8e06-41eb-8278-d58033944762",
   "metadata": {},
   "outputs": [
    {
     "name": "stdout",
     "output_type": "stream",
     "text": [
      "tf.Tensor(\n",
      "[[ 3.705955    2.685605   -0.27950686  1.7571474 ]\n",
      " [ 1.0321888   0.24564308  0.3377271  -0.8473892 ]], shape=(2, 4), dtype=float32)\n",
      "tf.Tensor(\n",
      "[[ 3.705955    2.685605   -0.27950686  1.7571474 ]\n",
      " [ 1.0321888   0.24564308  0.3377271  -0.8473892 ]], shape=(2, 4), dtype=float32)\n"
     ]
    }
   ],
   "source": [
    "x = tf.random.normal((2, 3))\n",
    "y = tf.random.normal((3, 4))\n",
    "z = tf.matmul(x, y)\n",
    "print(z)\n",
    "z = x @ y\n",
    "print(z)"
   ]
  },
  {
   "cell_type": "markdown",
   "id": "d8bd7a28-3b64-4fbe-8b14-a2552848dfce",
   "metadata": {},
   "source": [
    "### Indexing"
   ]
  },
  {
   "cell_type": "code",
   "execution_count": 19,
   "id": "1ae99fa7-bdcf-431e-9838-d64153394a74",
   "metadata": {},
   "outputs": [
    {
     "name": "stdout",
     "output_type": "stream",
     "text": [
      "tf.Tensor([ 0  1  1  2  3  5  8 13], shape=(8,), dtype=int32)\n"
     ]
    }
   ],
   "source": [
    "x = tf.constant([0,1,1,2,3,5,8,13])\n",
    "print(x[:])"
   ]
  },
  {
   "cell_type": "code",
   "execution_count": 20,
   "id": "6a82d5ac-61d6-4567-8364-6b39e5d64bb6",
   "metadata": {},
   "outputs": [
    {
     "name": "stdout",
     "output_type": "stream",
     "text": [
      "tf.Tensor([ 1  1  2  3  5  8 13], shape=(7,), dtype=int32)\n"
     ]
    }
   ],
   "source": [
    "print(x[1:])"
   ]
  },
  {
   "cell_type": "code",
   "execution_count": 21,
   "id": "f6fbb828-68b4-49f9-845d-4d931ecff80e",
   "metadata": {},
   "outputs": [
    {
     "name": "stdout",
     "output_type": "stream",
     "text": [
      "tf.Tensor([1 1], shape=(2,), dtype=int32)\n"
     ]
    }
   ],
   "source": [
    "print(x[1:3])"
   ]
  },
  {
   "cell_type": "code",
   "execution_count": 22,
   "id": "ed4bf8c5-78c1-4752-80a6-201d49fb4ae9",
   "metadata": {},
   "outputs": [
    {
     "name": "stdout",
     "output_type": "stream",
     "text": [
      "tf.Tensor([0 1 3 8], shape=(4,), dtype=int32)\n"
     ]
    }
   ],
   "source": [
    "print(x[::2])"
   ]
  },
  {
   "cell_type": "code",
   "execution_count": 23,
   "id": "f6a7207d-5288-4299-ac98-97d8b12a6fff",
   "metadata": {},
   "outputs": [
    {
     "name": "stdout",
     "output_type": "stream",
     "text": [
      "tf.Tensor([13  8  5  3  2  1  1  0], shape=(8,), dtype=int32)\n"
     ]
    }
   ],
   "source": [
    "print(x[::-1])"
   ]
  },
  {
   "cell_type": "code",
   "execution_count": 24,
   "id": "2541da5b-63c1-46a8-a28f-be7de3408e4a",
   "metadata": {},
   "outputs": [
    {
     "data": {
      "text/plain": [
       "<tf.Tensor: shape=(8,), dtype=int32, numpy=array([ 0,  1,  1,  2,  3,  5,  8, 13])>"
      ]
     },
     "execution_count": 24,
     "metadata": {},
     "output_type": "execute_result"
    }
   ],
   "source": [
    "x"
   ]
  },
  {
   "cell_type": "code",
   "execution_count": 26,
   "id": "b1abfd98-648d-4935-b561-7b9200d2374b",
   "metadata": {},
   "outputs": [
    {
     "name": "stdout",
     "output_type": "stream",
     "text": [
      "tf.Tensor([0 2], shape=(2,), dtype=int32)\n"
     ]
    }
   ],
   "source": [
    "indices = tf.constant([0, 3])\n",
    "x_ind = tf.gather(x, indices)\n",
    "print(x_ind)"
   ]
  },
  {
   "cell_type": "code",
   "execution_count": 27,
   "id": "b6112f6f-0e96-49fc-a147-4396067e051b",
   "metadata": {},
   "outputs": [
    {
     "name": "stdout",
     "output_type": "stream",
     "text": [
      "tf.Tensor([1 2], shape=(2,), dtype=int32)\n",
      "tf.Tensor(\n",
      "[[1 2]\n",
      " [3 4]], shape=(2, 2), dtype=int32)\n"
     ]
    }
   ],
   "source": [
    "x = tf.constant([[1, 2],\n",
    "                 [3, 4],\n",
    "                 [5, 6]])\n",
    "print(x[0,:])\n",
    "print(x[0:2, :])"
   ]
  },
  {
   "cell_type": "markdown",
   "id": "392811d0-0d2a-4e98-919c-a59b05e97dde",
   "metadata": {},
   "source": [
    "### Reshaping"
   ]
  },
  {
   "cell_type": "code",
   "execution_count": 30,
   "id": "42f901f8-146c-41a8-a16b-46f0085304eb",
   "metadata": {},
   "outputs": [
    {
     "name": "stdout",
     "output_type": "stream",
     "text": [
      "tf.Tensor([0 1 2 3 4 5 6 7 8], shape=(9,), dtype=int32)\n"
     ]
    }
   ],
   "source": [
    "x = tf.range(9)\n",
    "print(x)"
   ]
  },
  {
   "cell_type": "code",
   "execution_count": 32,
   "id": "17856acf-256d-4fac-9a28-411ccf165e4f",
   "metadata": {},
   "outputs": [
    {
     "name": "stdout",
     "output_type": "stream",
     "text": [
      "tf.Tensor(\n",
      "[[0 1 2]\n",
      " [3 4 5]\n",
      " [6 7 8]], shape=(3, 3), dtype=int32)\n"
     ]
    }
   ],
   "source": [
    "m = tf.reshape(x, (3,3))\n",
    "print(m)"
   ]
  },
  {
   "cell_type": "code",
   "execution_count": 33,
   "id": "4af07d72-4f73-453d-aff2-24a2b3424f3e",
   "metadata": {},
   "outputs": [
    {
     "name": "stdout",
     "output_type": "stream",
     "text": [
      "tf.Tensor(\n",
      "[[0 3 6]\n",
      " [1 4 7]\n",
      " [2 5 8]], shape=(3, 3), dtype=int32)\n"
     ]
    }
   ],
   "source": [
    "t = tf.transpose(x, perm=[1,0])\n",
    "print(t)"
   ]
  },
  {
   "cell_type": "code",
   "execution_count": null,
   "id": "55611a01-8a1e-4172-b519-9d09c7646fdf",
   "metadata": {},
   "outputs": [],
   "source": []
  }
 ],
 "metadata": {
  "kernelspec": {
   "display_name": "Python (tf)",
   "language": "python",
   "name": "tf"
  },
  "language_info": {
   "codemirror_mode": {
    "name": "ipython",
    "version": 3
   },
   "file_extension": ".py",
   "mimetype": "text/x-python",
   "name": "python",
   "nbconvert_exporter": "python",
   "pygments_lexer": "ipython3",
   "version": "3.7.9"
  }
 },
 "nbformat": 4,
 "nbformat_minor": 5
}
