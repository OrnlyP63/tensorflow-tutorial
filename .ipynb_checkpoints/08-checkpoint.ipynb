{
 "cells": [
  {
   "cell_type": "code",
   "execution_count": 1,
   "id": "4e9fedba-6c93-4fb5-9921-881edbcf8723",
   "metadata": {},
   "outputs": [],
   "source": [
    "import tensorflow as tf\n",
    "from tensorflow import keras\n",
    "from tensorflow.keras import layers\n",
    "from tensorflow.keras.datasets import mnist"
   ]
  },
  {
   "cell_type": "code",
   "execution_count": 2,
   "id": "76527ea8-9589-4cd7-9ff8-528c4ae8b19b",
   "metadata": {},
   "outputs": [],
   "source": [
    "(x_train, y_train), (x_test, y_test) = mnist.load_data()\n",
    "x_train = x_train.reshape(-1, 28 * 28).astype(\"float32\") / 255.0\n",
    "x_test = x_test.reshape(-1, 28 * 28).astype(\"float32\") / 255.0"
   ]
  },
  {
   "cell_type": "code",
   "execution_count": 3,
   "id": "3f8179ed-4e01-40e7-b823-bccd88e3d633",
   "metadata": {},
   "outputs": [],
   "source": [
    "# 1. How to save and load model weights\n",
    "# 2. Save and loading entire model (Serializing model)\n",
    "#   - Saves weights\n",
    "#   - Model architecture\n",
    "#   - Training Configuration (model.compile())\n",
    "#   - Optimizer and states"
   ]
  },
  {
   "cell_type": "code",
   "execution_count": 4,
   "id": "59a00136-8922-4197-a95d-b7e39d3a55b1",
   "metadata": {},
   "outputs": [],
   "source": [
    "model1 = keras.Sequential([\n",
    "    layers.Dense(64, activation=\"relu\"), \n",
    "    layers.Dense(10)\n",
    "])"
   ]
  },
  {
   "cell_type": "code",
   "execution_count": 5,
   "id": "f3199701-8ff5-4eff-beff-722af584ea50",
   "metadata": {},
   "outputs": [],
   "source": [
    "inputs = keras.Input(784)\n",
    "x = layers.Dense(64, activation=\"relu\")(inputs)\n",
    "outputs = layers.Dense(10)(x)\n",
    "model2 = keras.Model(inputs=inputs, outputs=outputs)"
   ]
  },
  {
   "cell_type": "code",
   "execution_count": 6,
   "id": "d18ead66-c3b3-459d-b92e-66d9976a6505",
   "metadata": {},
   "outputs": [],
   "source": [
    "class MyModel(keras.Model):\n",
    "    def __init__(self):\n",
    "        super(MyModel, self).__init__()\n",
    "        self.dense1 = layers.Dense(64, activation=\"relu\")\n",
    "        self.dense2 = layers.Dense(10)\n",
    "\n",
    "    def call(self, input_tensor):\n",
    "        x = tf.nn.relu(self.dense1(input_tensor))\n",
    "        return self.dense2(x)"
   ]
  },
  {
   "cell_type": "code",
   "execution_count": 7,
   "id": "3fbf589d-5249-4bf3-baa4-a88319ce3a5b",
   "metadata": {},
   "outputs": [],
   "source": [
    "model3 = MyModel()"
   ]
  },
  {
   "cell_type": "code",
   "execution_count": 8,
   "id": "baad80ee-c620-48ab-877f-bf93eea635f9",
   "metadata": {},
   "outputs": [],
   "source": [
    "#model = model1"
   ]
  },
  {
   "cell_type": "code",
   "execution_count": 9,
   "id": "b49a9c82-fbb9-4bfe-a68d-f57794108138",
   "metadata": {},
   "outputs": [],
   "source": [
    "#model.load_weights('saved_model/')\n",
    "model = keras.models.load_model('saved_model/')"
   ]
  },
  {
   "cell_type": "code",
   "execution_count": 10,
   "id": "e1401c94-85ac-4629-8f32-ac750eec1dcb",
   "metadata": {},
   "outputs": [],
   "source": [
    "# model.compile(\n",
    "#     loss=keras.losses.SparseCategoricalCrossentropy(from_logits=True),\n",
    "#     optimizer=keras.optimizers.Adam(),\n",
    "#     metrics=[\"accuracy\"],\n",
    "# )"
   ]
  },
  {
   "cell_type": "code",
   "execution_count": 11,
   "id": "e7e58f80-77de-46d8-a84f-2548d2bd046b",
   "metadata": {},
   "outputs": [
    {
     "name": "stdout",
     "output_type": "stream",
     "text": [
      "Train on 60000 samples\n",
      "Epoch 1/2\n",
      "60000/60000 - 5s - loss: 0.0509 - accuracy: 0.9840\n",
      "Epoch 2/2\n",
      "60000/60000 - 4s - loss: 0.0428 - accuracy: 0.9869\n"
     ]
    },
    {
     "data": {
      "text/plain": [
       "<tensorflow.python.keras.callbacks.History at 0x20a583bf248>"
      ]
     },
     "execution_count": 11,
     "metadata": {},
     "output_type": "execute_result"
    }
   ],
   "source": [
    "model.fit(x_train, y_train, batch_size=32, epochs=2, verbose=2)"
   ]
  },
  {
   "cell_type": "code",
   "execution_count": 12,
   "id": "ce0eca81-d465-408d-be03-152c71d4457d",
   "metadata": {},
   "outputs": [
    {
     "name": "stdout",
     "output_type": "stream",
     "text": [
      "10000/10000 - 1s - loss: 0.0833 - accuracy: 0.9749\n"
     ]
    },
    {
     "data": {
      "text/plain": [
       "[0.08328822983646532, 0.9749]"
      ]
     },
     "execution_count": 12,
     "metadata": {},
     "output_type": "execute_result"
    }
   ],
   "source": [
    "model.evaluate(x_test, y_test, batch_size=32, verbose=2)"
   ]
  },
  {
   "cell_type": "code",
   "execution_count": 13,
   "id": "412dc552-f9a6-493d-8880-6c95e8f1283a",
   "metadata": {},
   "outputs": [
    {
     "name": "stdout",
     "output_type": "stream",
     "text": [
      "WARNING:tensorflow:From C:\\Users\\ideapad 330\\anaconda3\\envs\\tf\\lib\\site-packages\\tensorflow_core\\python\\ops\\resource_variable_ops.py:1786: calling BaseResourceVariable.__init__ (from tensorflow.python.ops.resource_variable_ops) with constraint is deprecated and will be removed in a future version.\n",
      "Instructions for updating:\n",
      "If using Keras pass *_constraint arguments to layers.\n",
      "INFO:tensorflow:Assets written to: saved_model/assets\n"
     ]
    }
   ],
   "source": [
    "# model.save_weights('checkpoint_folder/')\n",
    "model.save(\"saved_model/\")"
   ]
  },
  {
   "cell_type": "code",
   "execution_count": null,
   "id": "d0c707c4-2e3b-4258-8829-0377076803ea",
   "metadata": {},
   "outputs": [],
   "source": []
  }
 ],
 "metadata": {
  "kernelspec": {
   "display_name": "Python (tf)",
   "language": "python",
   "name": "tf"
  },
  "language_info": {
   "codemirror_mode": {
    "name": "ipython",
    "version": 3
   },
   "file_extension": ".py",
   "mimetype": "text/x-python",
   "name": "python",
   "nbconvert_exporter": "python",
   "pygments_lexer": "ipython3",
   "version": "3.7.9"
  }
 },
 "nbformat": 4,
 "nbformat_minor": 5
}
