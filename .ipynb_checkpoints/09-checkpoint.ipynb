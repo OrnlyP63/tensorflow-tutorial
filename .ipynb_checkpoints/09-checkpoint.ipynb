{
 "cells": [
  {
   "cell_type": "code",
   "execution_count": 1,
   "id": "41e1727c-62e5-4605-a425-7276a4261a0b",
   "metadata": {},
   "outputs": [],
   "source": [
    "import tensorflow as tf\n",
    "from tensorflow import keras\n",
    "from tensorflow.keras import layers\n",
    "from tensorflow.keras.datasets import mnist\n",
    "import tensorflow_hub as hub"
   ]
  },
  {
   "cell_type": "markdown",
   "id": "c4f48e3d-10ca-4388-a3e2-77f4037e4c17",
   "metadata": {},
   "source": [
    "### Pretrained-Model"
   ]
  },
  {
   "cell_type": "code",
   "execution_count": 2,
   "id": "03a07e8c-f6d1-4adb-a849-732531b882a0",
   "metadata": {},
   "outputs": [],
   "source": [
    "(x_train, y_train), (x_test, y_test) = mnist.load_data()\n",
    "x_train = x_train.reshape(-1, 28 * 28).astype(\"float32\") / 255.0\n",
    "x_test = x_test.reshape(-1, 28 * 28).astype(\"float32\") / 255.0"
   ]
  },
  {
   "cell_type": "code",
   "execution_count": 3,
   "id": "536914e1-d123-420c-a707-577a213613e5",
   "metadata": {},
   "outputs": [],
   "source": [
    "model = keras.models.load_model(\"saved_model/\")\n",
    "model.trainable = False"
   ]
  },
  {
   "cell_type": "code",
   "execution_count": 4,
   "id": "af8f85c0-4810-4e15-8a93-44e07ed9bd27",
   "metadata": {},
   "outputs": [],
   "source": [
    "for layer in model.layers:\n",
    "    assert layer.trainable == False\n",
    "    layer.trainable = False"
   ]
  },
  {
   "cell_type": "code",
   "execution_count": 5,
   "id": "45df6c1b-b42a-4e86-b8e9-819902ed720f",
   "metadata": {},
   "outputs": [
    {
     "name": "stdout",
     "output_type": "stream",
     "text": [
      "Model: \"model\"\n",
      "_________________________________________________________________\n",
      "Layer (type)                 Output Shape              Param #   \n",
      "=================================================================\n",
      "input_2 (InputLayer)         [(None, 784)]             0         \n",
      "_________________________________________________________________\n",
      "dense_2 (Dense)              (None, 64)                50240     \n",
      "_________________________________________________________________\n",
      "dense_3 (Dense)              (None, 10)                650       \n",
      "=================================================================\n",
      "WARNING:tensorflow:Discrepancy between trainable weights and collected trainable weights, did you set `model.trainable` without calling `model.compile` after ?\n",
      "Total params: 101,780\n",
      "Trainable params: 50,890\n",
      "Non-trainable params: 50,890\n",
      "_________________________________________________________________\n",
      "None\n"
     ]
    }
   ],
   "source": [
    "print(model.summary())"
   ]
  },
  {
   "cell_type": "code",
   "execution_count": 6,
   "id": "60062afc-1359-492d-acf1-e167838d7e23",
   "metadata": {},
   "outputs": [],
   "source": [
    "base_inputs = model.layers[0].input\n",
    "base_outputs = model.layers[-2].output\n",
    "final_output  = layers.Dense(10)(base_outputs)"
   ]
  },
  {
   "cell_type": "code",
   "execution_count": 7,
   "id": "ef881087-3c02-4cea-a22c-ff90ccf7c720",
   "metadata": {},
   "outputs": [
    {
     "name": "stdout",
     "output_type": "stream",
     "text": [
      "Model: \"model\"\n",
      "_________________________________________________________________\n",
      "Layer (type)                 Output Shape              Param #   \n",
      "=================================================================\n",
      "input_2 (InputLayer)         [(None, 784)]             0         \n",
      "_________________________________________________________________\n",
      "dense_2 (Dense)              (None, 64)                50240     \n",
      "_________________________________________________________________\n",
      "dense (Dense)                (None, 10)                650       \n",
      "=================================================================\n",
      "Total params: 50,890\n",
      "Trainable params: 650\n",
      "Non-trainable params: 50,240\n",
      "_________________________________________________________________\n",
      "None\n"
     ]
    }
   ],
   "source": [
    "new_model = keras.Model(inputs = base_inputs, outputs = final_output)\n",
    "print(new_model.summary())"
   ]
  },
  {
   "cell_type": "code",
   "execution_count": 8,
   "id": "9c455518-1461-47d5-b078-919633ea10cb",
   "metadata": {},
   "outputs": [],
   "source": [
    "new_model.compile(\n",
    "    loss=keras.losses.SparseCategoricalCrossentropy(from_logits=True),\n",
    "    optimizer=keras.optimizers.Adam(),\n",
    "    metrics=[\"accuracy\"],\n",
    ")"
   ]
  },
  {
   "cell_type": "code",
   "execution_count": 9,
   "id": "610b7e05-9a41-4bfc-afa4-22367f436edd",
   "metadata": {},
   "outputs": [
    {
     "name": "stdout",
     "output_type": "stream",
     "text": [
      "Train on 60000 samples\n",
      "Epoch 1/2\n",
      "60000/60000 - 4s - loss: 0.3997 - accuracy: 0.8934\n",
      "Epoch 2/2\n",
      "60000/60000 - 3s - loss: 0.1269 - accuracy: 0.9646\n"
     ]
    },
    {
     "data": {
      "text/plain": [
       "<tensorflow.python.keras.callbacks.History at 0x2113331dcc8>"
      ]
     },
     "execution_count": 9,
     "metadata": {},
     "output_type": "execute_result"
    }
   ],
   "source": [
    "new_model.fit(x_train, y_train, batch_size=32, epochs=2, verbose=2)"
   ]
  },
  {
   "cell_type": "markdown",
   "id": "a3f1bebe-b1a7-4792-96c6-ea453f18be49",
   "metadata": {},
   "source": [
    "### Pretrained Keras Model"
   ]
  },
  {
   "cell_type": "code",
   "execution_count": 10,
   "id": "cefbbe02-f827-4ec2-b670-5abf1119e303",
   "metadata": {},
   "outputs": [],
   "source": [
    "x = tf.random.normal(shape=(5, 299, 299, 3))\n",
    "y = tf.constant([0,1,2,3,4])"
   ]
  },
  {
   "cell_type": "code",
   "execution_count": 11,
   "id": "fe9bf1de-2aa3-4784-a1cc-ea50ad8f2880",
   "metadata": {},
   "outputs": [],
   "source": [
    "model = keras.applications.InceptionV3(include_top = True)\n",
    "#print(model.summary())"
   ]
  },
  {
   "cell_type": "code",
   "execution_count": 12,
   "id": "1ababf3c-da4c-4b75-a0c9-6ef390b29321",
   "metadata": {},
   "outputs": [],
   "source": [
    "base_inputs = model.layers[0].input\n",
    "base_outputs = model.layers[-2].output\n",
    "final_outputs = layers.Dense(5)(base_outputs)\n",
    "new_model = keras.Model(inputs = base_inputs, outputs = final_outputs)"
   ]
  },
  {
   "cell_type": "code",
   "execution_count": 13,
   "id": "bbcf84da-5579-47ff-8e3f-195f14ad3b90",
   "metadata": {},
   "outputs": [],
   "source": [
    "new_model.compile(\n",
    "    loss=keras.losses.SparseCategoricalCrossentropy(from_logits=True),\n",
    "    optimizer=keras.optimizers.Adam(),\n",
    "    metrics=[\"accuracy\"],\n",
    ")"
   ]
  },
  {
   "cell_type": "code",
   "execution_count": 15,
   "id": "2ff1dc37-9e73-473a-9087-e6ca93d4ac57",
   "metadata": {},
   "outputs": [
    {
     "name": "stdout",
     "output_type": "stream",
     "text": [
      "Train on 5 samples\n",
      "Epoch 1/5\n",
      "5/5 - 3s - loss: 0.4516 - accuracy: 1.0000\n",
      "Epoch 2/5\n",
      "5/5 - 3s - loss: 0.0013 - accuracy: 1.0000\n",
      "Epoch 3/5\n",
      "5/5 - 3s - loss: 4.5948e-04 - accuracy: 1.0000\n",
      "Epoch 4/5\n",
      "5/5 - 3s - loss: 2.2869e-04 - accuracy: 1.0000\n",
      "Epoch 5/5\n",
      "5/5 - 3s - loss: 1.5261e-04 - accuracy: 1.0000\n"
     ]
    },
    {
     "data": {
      "text/plain": [
       "<tensorflow.python.keras.callbacks.History at 0x2113f6037c8>"
      ]
     },
     "execution_count": 15,
     "metadata": {},
     "output_type": "execute_result"
    }
   ],
   "source": [
    "new_model.fit(x, y, epochs=5, verbose=2)"
   ]
  },
  {
   "cell_type": "markdown",
   "id": "dd0e762c-58e5-45b1-9b3a-e460b3113968",
   "metadata": {},
   "source": [
    "### Pretrained Hub Model"
   ]
  },
  {
   "cell_type": "code",
   "execution_count": 10,
   "id": "87e04759-b365-419e-abd2-90708cad4e79",
   "metadata": {},
   "outputs": [],
   "source": [
    "x = tf.random.normal(shape=(5, 299, 299, 3))\n",
    "y = tf.constant([0,1,2,3,4])"
   ]
  },
  {
   "cell_type": "code",
   "execution_count": 17,
   "id": "814ccbf7-600e-477f-85d5-7368049edfd7",
   "metadata": {},
   "outputs": [],
   "source": [
    "#https://tfhub.dev/\n",
    "url = 'https://tfhub.dev/google/imagenet/inception_v3/feature_vector/5'"
   ]
  },
  {
   "cell_type": "code",
   "execution_count": 19,
   "id": "e04063a2-156c-4237-9532-5268a6863bb4",
   "metadata": {},
   "outputs": [],
   "source": [
    "base_model = hub.KerasLayer(url, input_shape=(299, 299, 3))\n",
    "#print(base_model.summary())\n",
    "base_model.trainable = False"
   ]
  },
  {
   "cell_type": "code",
   "execution_count": 20,
   "id": "4410563d-fb36-4d82-bc48-bcece026ed13",
   "metadata": {},
   "outputs": [],
   "source": [
    "model = keras.Sequential([\n",
    "    base_model,\n",
    "    layers.Dense(128, activation = 'relu'),\n",
    "    layers.Dense(64, activation = 'relu'),\n",
    "    layers.Dense(5),\n",
    "])"
   ]
  },
  {
   "cell_type": "code",
   "execution_count": 21,
   "id": "45c87ad3-b774-4c4c-84cd-483eb143fe44",
   "metadata": {},
   "outputs": [],
   "source": [
    "new_model.compile(\n",
    "    loss=keras.losses.SparseCategoricalCrossentropy(from_logits=True),\n",
    "    optimizer=keras.optimizers.Adam(),\n",
    "    metrics=[\"accuracy\"],\n",
    ")"
   ]
  },
  {
   "cell_type": "code",
   "execution_count": 22,
   "id": "f61af260-9167-43cb-9601-624fec39b480",
   "metadata": {},
   "outputs": [
    {
     "name": "stdout",
     "output_type": "stream",
     "text": [
      "Train on 5 samples\n",
      "Epoch 1/5\n",
      "5/5 - 20s - loss: 1.2630e-04 - accuracy: 1.0000\n",
      "Epoch 2/5\n",
      "5/5 - 3s - loss: 2.0111e-04 - accuracy: 1.0000\n",
      "Epoch 3/5\n",
      "5/5 - 4s - loss: 7.9473e-05 - accuracy: 1.0000\n",
      "Epoch 4/5\n",
      "5/5 - 4s - loss: 1.5736e-06 - accuracy: 1.0000\n",
      "Epoch 5/5\n",
      "5/5 - 4s - loss: 4.5776e-06 - accuracy: 1.0000\n"
     ]
    },
    {
     "data": {
      "text/plain": [
       "<tensorflow.python.keras.callbacks.History at 0x2113e074b48>"
      ]
     },
     "execution_count": 22,
     "metadata": {},
     "output_type": "execute_result"
    }
   ],
   "source": [
    "new_model.fit(x, y, epochs=5, verbose=2)"
   ]
  },
  {
   "cell_type": "code",
   "execution_count": null,
   "id": "6166c1c5-2d10-47be-9751-145c440ec30c",
   "metadata": {},
   "outputs": [],
   "source": []
  }
 ],
 "metadata": {
  "kernelspec": {
   "display_name": "Python (tf)",
   "language": "python",
   "name": "tf"
  },
  "language_info": {
   "codemirror_mode": {
    "name": "ipython",
    "version": 3
   },
   "file_extension": ".py",
   "mimetype": "text/x-python",
   "name": "python",
   "nbconvert_exporter": "python",
   "pygments_lexer": "ipython3",
   "version": "3.7.9"
  }
 },
 "nbformat": 4,
 "nbformat_minor": 5
}
